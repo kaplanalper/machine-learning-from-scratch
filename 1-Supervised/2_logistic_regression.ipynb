{
 "cells": [
  {
   "cell_type": "code",
   "execution_count": 1,
   "metadata": {},
   "outputs": [],
   "source": [
    "import numpy as np\n",
    "\n",
    "from sklearn import datasets\n",
    "from sklearn.metrics import classification_report\n",
    "from sklearn.model_selection import train_test_split\n",
    "from tqdm.notebook import tqdm"
   ]
  },
  {
   "cell_type": "code",
   "execution_count": 2,
   "metadata": {},
   "outputs": [],
   "source": [
    "learning_rate = 1e-2\n",
    "n_iters = 1000\n",
    "test_size = 0.2\n",
    "random_state = 42"
   ]
  },
  {
   "cell_type": "code",
   "execution_count": 3,
   "metadata": {},
   "outputs": [],
   "source": [
    "class LogisticRegression:\n",
    "    \"\"\"Linear regression with sigmoid function: binary classification\"\"\"\n",
    "    def __init__(self, learning_rate=0.001, n_iters=1000) -> None:\n",
    "        self.lr = learning_rate\n",
    "        self.n_iters = n_iters\n",
    "        self.betas = None\n",
    "        self.intercept = None\n",
    "    \n",
    "    def fit(self, X: np.array, y: np.array) -> None:\n",
    "        n_samples, n_features = X.shape\n",
    "\n",
    "        self.betas = np.zeros(n_features)\n",
    "        self.intercept = 0\n",
    "\n",
    "        for _ in tqdm(range(self.n_iters)):\n",
    "            linear_model = np.dot(X, self.betas) + self.intercept\n",
    "            y_pred = self._sigmoid(linear_model)\n",
    "\n",
    "            db = np.dot(X.T, (y_pred - y)) / n_samples\n",
    "            di = np.sum(y_pred - y)\n",
    "\n",
    "            self.betas -= self.lr * db\n",
    "            self.intercept -= self.lr * di\n",
    "\n",
    "    def predict(self, X) -> np.array:\n",
    "        linear_model = np.dot(self.betas, X.T) + self.intercept\n",
    "        y_pred_sigmoid = self._sigmoid(linear_model)\n",
    "        return (y_pred_sigmoid >= 0.5).astype(int)\n",
    "    \n",
    "    def _sigmoid(self, x: np.array) -> np.array:\n",
    "        return 1 / (1 + np.exp(-x, dtype=np.float128))"
   ]
  },
  {
   "cell_type": "code",
   "execution_count": 4,
   "metadata": {},
   "outputs": [],
   "source": [
    "def tp(y_true, y_pred):\n",
    "    return np.sum((y_true == 1) & (y_pred == 1))\n",
    "\n",
    "def fp(y_true, y_pred):\n",
    "    return np.sum((y_true == 0) & (y_pred == 1))\n",
    "\n",
    "def fn(y_true, y_pred):\n",
    "    return np.sum((y_true == 1) & (y_pred == 0))\n",
    "\n",
    "def tn(y_true, y_pred):\n",
    "    return np.sum((y_true == 0) & (y_pred == 0))\n",
    "\n",
    "def accuracy(y_true, y_pred):\n",
    "    tp_ = tp(y_true, y_pred)\n",
    "    tn_ = tn(y_true, y_pred)\n",
    "    fp_ = fp(y_true, y_pred)\n",
    "    fn_ = fn(y_true, y_pred)\n",
    "    return (tp_ + tn_) / (tp_ + fp_ + tn_ + fn_)\n",
    "\n",
    "def precision(y_true, y_pred):\n",
    "    tp_ = tp(y_true, y_pred)\n",
    "    fp_ = fp(y_true, y_pred)\n",
    "    return tp_ / (tp_ + fp_)\n",
    "\n",
    "def recall(y_true, y_pred):\n",
    "    tp_ = tp(y_true, y_pred)\n",
    "    fn_ = fn(y_true, y_pred)\n",
    "    return tp_ / (tp_ + fn_)\n",
    "\n",
    "def f1_score(y_true, y_pred):\n",
    "    return 2 / ((1 / recall(y_true, y_pred)) + (1 / precision(y_true, y_pred)))"
   ]
  },
  {
   "cell_type": "code",
   "execution_count": 5,
   "metadata": {},
   "outputs": [],
   "source": [
    "X, y = datasets.make_classification(n_samples=1000,\n",
    "                                    n_features=10,\n",
    "                                    n_classes=2,\n",
    "                                    random_state=random_state)"
   ]
  },
  {
   "cell_type": "code",
   "execution_count": 6,
   "metadata": {},
   "outputs": [],
   "source": [
    "X_train, X_test, y_train, y_test = train_test_split(X, y,\n",
    "                                                    test_size=0.2,\n",
    "                                                    random_state=random_state)"
   ]
  },
  {
   "cell_type": "code",
   "execution_count": 7,
   "metadata": {},
   "outputs": [
    {
     "data": {
      "application/vnd.jupyter.widget-view+json": {
       "model_id": "16a5fa57a53c4f1a903995aa4421e764",
       "version_major": 2,
       "version_minor": 0
      },
      "text/plain": [
       "  0%|          | 0/1000 [00:00<?, ?it/s]"
      ]
     },
     "metadata": {},
     "output_type": "display_data"
    }
   ],
   "source": [
    "log_reg = LogisticRegression(learning_rate=learning_rate,\n",
    "                             n_iters=n_iters)\n",
    "log_reg.fit(X_train, y_train)"
   ]
  },
  {
   "cell_type": "code",
   "execution_count": 8,
   "metadata": {},
   "outputs": [],
   "source": [
    "preds = log_reg.predict(X_test)"
   ]
  },
  {
   "cell_type": "code",
   "execution_count": 9,
   "metadata": {},
   "outputs": [
    {
     "data": {
      "text/plain": [
       "0.825"
      ]
     },
     "execution_count": 9,
     "metadata": {},
     "output_type": "execute_result"
    }
   ],
   "source": [
    "accuracy(y_test, preds)"
   ]
  },
  {
   "cell_type": "code",
   "execution_count": 10,
   "metadata": {},
   "outputs": [
    {
     "data": {
      "text/plain": [
       "0.8877551020408163"
      ]
     },
     "execution_count": 10,
     "metadata": {},
     "output_type": "execute_result"
    }
   ],
   "source": [
    "precision(y_test, preds)"
   ]
  },
  {
   "cell_type": "code",
   "execution_count": 11,
   "metadata": {},
   "outputs": [
    {
     "data": {
      "text/plain": [
       "0.7837837837837838"
      ]
     },
     "execution_count": 11,
     "metadata": {},
     "output_type": "execute_result"
    }
   ],
   "source": [
    "recall(y_test, preds)"
   ]
  },
  {
   "cell_type": "code",
   "execution_count": 12,
   "metadata": {},
   "outputs": [
    {
     "data": {
      "text/plain": [
       "0.832535885167464"
      ]
     },
     "execution_count": 12,
     "metadata": {},
     "output_type": "execute_result"
    }
   ],
   "source": [
    "f1_score(y_test, preds)"
   ]
  },
  {
   "cell_type": "code",
   "execution_count": 13,
   "metadata": {},
   "outputs": [
    {
     "name": "stdout",
     "output_type": "stream",
     "text": [
      "              precision    recall  f1-score   support\n",
      "\n",
      "           0       0.76      0.88      0.82        89\n",
      "           1       0.89      0.78      0.83       111\n",
      "\n",
      "    accuracy                           0.82       200\n",
      "   macro avg       0.83      0.83      0.82       200\n",
      "weighted avg       0.83      0.82      0.83       200\n",
      "\n"
     ]
    }
   ],
   "source": [
    "print(classification_report(y_test, preds))"
   ]
  },
  {
   "cell_type": "code",
   "execution_count": null,
   "metadata": {},
   "outputs": [],
   "source": []
  }
 ],
 "metadata": {
  "kernelspec": {
   "display_name": "ml-from-scratch",
   "language": "python",
   "name": "python3"
  },
  "language_info": {
   "codemirror_mode": {
    "name": "ipython",
    "version": 3
   },
   "file_extension": ".py",
   "mimetype": "text/x-python",
   "name": "python",
   "nbconvert_exporter": "python",
   "pygments_lexer": "ipython3",
   "version": "3.11.0"
  }
 },
 "nbformat": 4,
 "nbformat_minor": 2
}
